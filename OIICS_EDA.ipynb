{
 "cells": [
  {
   "cell_type": "code",
   "execution_count": 1,
   "metadata": {},
   "outputs": [],
   "source": [
    "import pandas as pd\n",
    "import numpy as np\n",
    "import matplotlib.pyplot as plt\n",
    "import re\n",
    "\n",
    "from tqdm import tqdm_notebook"
   ]
  },
  {
   "cell_type": "code",
   "execution_count": 28,
   "metadata": {},
   "outputs": [],
   "source": [
    "data = pd.read_csv('/home/vijjus/datasets/cdc_train.csv')"
   ]
  },
  {
   "cell_type": "code",
   "execution_count": 29,
   "metadata": {},
   "outputs": [
    {
     "data": {
      "text/html": [
       "<div>\n",
       "<style scoped>\n",
       "    .dataframe tbody tr th:only-of-type {\n",
       "        vertical-align: middle;\n",
       "    }\n",
       "\n",
       "    .dataframe tbody tr th {\n",
       "        vertical-align: top;\n",
       "    }\n",
       "\n",
       "    .dataframe thead th {\n",
       "        text-align: right;\n",
       "    }\n",
       "</style>\n",
       "<table border=\"1\" class=\"dataframe\">\n",
       "  <thead>\n",
       "    <tr style=\"text-align: right;\">\n",
       "      <th></th>\n",
       "      <th>text</th>\n",
       "      <th>sex</th>\n",
       "      <th>age</th>\n",
       "      <th>event</th>\n",
       "    </tr>\n",
       "  </thead>\n",
       "  <tbody>\n",
       "    <tr>\n",
       "      <th>0</th>\n",
       "      <td>57YOM WITH CONTUSION TO FACE AFTER STRIKING IT...</td>\n",
       "      <td>1</td>\n",
       "      <td>57</td>\n",
       "      <td>62</td>\n",
       "    </tr>\n",
       "    <tr>\n",
       "      <th>1</th>\n",
       "      <td>A 45YOM FELL ON ARM WHILE WORKING HAD SLIPPED ...</td>\n",
       "      <td>1</td>\n",
       "      <td>45</td>\n",
       "      <td>42</td>\n",
       "    </tr>\n",
       "    <tr>\n",
       "      <th>2</th>\n",
       "      <td>58YOM WITH CERVICAL STRAIN  BACK PAIN S P REST...</td>\n",
       "      <td>1</td>\n",
       "      <td>58</td>\n",
       "      <td>26</td>\n",
       "    </tr>\n",
       "    <tr>\n",
       "      <th>3</th>\n",
       "      <td>33 YOM LAC TO HAND FROM A RAZOR KNIFE</td>\n",
       "      <td>1</td>\n",
       "      <td>33</td>\n",
       "      <td>60</td>\n",
       "    </tr>\n",
       "    <tr>\n",
       "      <th>4</th>\n",
       "      <td>53YOM AT WORK IN A WAREHOUSE DOING UNSPECIFIED...</td>\n",
       "      <td>1</td>\n",
       "      <td>53</td>\n",
       "      <td>71</td>\n",
       "    </tr>\n",
       "  </tbody>\n",
       "</table>\n",
       "</div>"
      ],
      "text/plain": [
       "                                                text  sex  age  event\n",
       "0  57YOM WITH CONTUSION TO FACE AFTER STRIKING IT...    1   57     62\n",
       "1  A 45YOM FELL ON ARM WHILE WORKING HAD SLIPPED ...    1   45     42\n",
       "2  58YOM WITH CERVICAL STRAIN  BACK PAIN S P REST...    1   58     26\n",
       "3              33 YOM LAC TO HAND FROM A RAZOR KNIFE    1   33     60\n",
       "4  53YOM AT WORK IN A WAREHOUSE DOING UNSPECIFIED...    1   53     71"
      ]
     },
     "execution_count": 29,
     "metadata": {},
     "output_type": "execute_result"
    }
   ],
   "source": [
    "data.head()"
   ]
  },
  {
   "cell_type": "code",
   "execution_count": 4,
   "metadata": {},
   "outputs": [],
   "source": [
    "glove_path=\"/home/vijjus/glove/glove.6B.50d.txt\"\n",
    "embedding_size=50"
   ]
  },
  {
   "cell_type": "code",
   "execution_count": 5,
   "metadata": {},
   "outputs": [
    {
     "name": "stderr",
     "output_type": "stream",
     "text": [
      "  1%|          | 2637/400000 [00:00<00:15, 26367.89it/s]"
     ]
    },
    {
     "name": "stdout",
     "output_type": "stream",
     "text": [
      "Loading GLoVE vectors from file: /home/vijjus/glove/glove.6B.50d.txt\n"
     ]
    },
    {
     "name": "stderr",
     "output_type": "stream",
     "text": [
      "100%|██████████| 400000/400000 [00:06<00:00, 58953.87it/s]\n"
     ]
    }
   ],
   "source": [
    "# Load embedding matrix and vocab mappings\n",
    "from vocab import get_glove\n",
    "emb_matrix, word2id, id2word = get_glove(glove_path, embedding_size)"
   ]
  },
  {
   "cell_type": "markdown",
   "metadata": {},
   "source": [
    "Text sanitization:\n",
    "\n",
    "* Convert yom/yof/ym/yo/yf to \"year old..\"\n",
    "* Split words that are joined"
   ]
  },
  {
   "cell_type": "code",
   "execution_count": 30,
   "metadata": {},
   "outputs": [],
   "source": [
    "def do_split(token, output_list):\n",
    "    if token not in word2id:\n",
    "        split = -1\n",
    "        for i in range(1,len(token)):\n",
    "            if token[:i] in word2id:\n",
    "                split = i\n",
    "        if split is not -1:\n",
    "            sub1 = token[:split]\n",
    "            sub2 = token[split:]\n",
    "            if sub1 in word2id:\n",
    "                output_list.append(sub1)\n",
    "            if sub2 in word2id:\n",
    "                output_list.append(sub2)\n",
    "    else:\n",
    "        output_list.append(token)\n",
    "    return output_list"
   ]
  },
  {
   "cell_type": "code",
   "execution_count": 31,
   "metadata": {},
   "outputs": [],
   "source": [
    "# receive a list of tokens and return a transformed list that has tokens\n",
    "# present in the embedding dictionary\n",
    "def process_text(input_list):\n",
    "    output_list = []\n",
    "    for tok in input_list:\n",
    "        output_list = do_split(tok, output_list)\n",
    "    return output_list"
   ]
  },
  {
   "cell_type": "code",
   "execution_count": 32,
   "metadata": {},
   "outputs": [],
   "source": [
    "# check for words that are not in the volabulary\n",
    "def sanitize_data(data):\n",
    "    total_len = len(data)\n",
    "    for i in tqdm_notebook(range(total_len)):\n",
    "        text = data.iloc[i]['text'].lower()\n",
    "        tokens = text.split(\" \")\n",
    "        tokens = process_text(tokens)\n",
    "        data.at[i, 'text'] = ' '.join(tokens)"
   ]
  },
  {
   "cell_type": "code",
   "execution_count": 33,
   "metadata": {},
   "outputs": [
    {
     "data": {
      "application/vnd.jupyter.widget-view+json": {
       "model_id": "7f0aee3468954721a83985a59dc255d5",
       "version_major": 2,
       "version_minor": 0
      },
      "text/plain": [
       "HBox(children=(IntProgress(value=0, max=153956), HTML(value='')))"
      ]
     },
     "metadata": {},
     "output_type": "display_data"
    },
    {
     "name": "stdout",
     "output_type": "stream",
     "text": [
      "\n"
     ]
    }
   ],
   "source": [
    "sanitize_data(data)"
   ]
  },
  {
   "cell_type": "code",
   "execution_count": 34,
   "metadata": {},
   "outputs": [],
   "source": [
    "# check for words that are not in the volabulary\n",
    "def check_unks(data):\n",
    "    unknowns = 0\n",
    "    unknown_words = []\n",
    "    total_len = len(data)\n",
    "    for i in tqdm_notebook(range(total_len)):\n",
    "        text = data.iloc[i]['text'].lower()\n",
    "        tokens = text.split(\" \")\n",
    "        for j, token in enumerate(tokens):\n",
    "            if token not in word2id and token not in unknown_words:\n",
    "                unknown_words.append(token)\n",
    "                unknowns += 1\n",
    "    print(\"{} tokens not in embedding dictionary\".format(unknowns))\n",
    "    return unknown_words"
   ]
  },
  {
   "cell_type": "code",
   "execution_count": 35,
   "metadata": {},
   "outputs": [
    {
     "data": {
      "application/vnd.jupyter.widget-view+json": {
       "model_id": "bde0092d12b3457cac01960ac3e77799",
       "version_major": 2,
       "version_minor": 0
      },
      "text/plain": [
       "HBox(children=(IntProgress(value=0, max=153956), HTML(value='')))"
      ]
     },
     "metadata": {},
     "output_type": "display_data"
    },
    {
     "name": "stdout",
     "output_type": "stream",
     "text": [
      "\n",
      "0 tokens not in embedding dictionary\n"
     ]
    }
   ],
   "source": [
    "unks = check_unks(data)"
   ]
  },
  {
   "cell_type": "code",
   "execution_count": 36,
   "metadata": {},
   "outputs": [
    {
     "data": {
      "text/html": [
       "<div>\n",
       "<style scoped>\n",
       "    .dataframe tbody tr th:only-of-type {\n",
       "        vertical-align: middle;\n",
       "    }\n",
       "\n",
       "    .dataframe tbody tr th {\n",
       "        vertical-align: top;\n",
       "    }\n",
       "\n",
       "    .dataframe thead th {\n",
       "        text-align: right;\n",
       "    }\n",
       "</style>\n",
       "<table border=\"1\" class=\"dataframe\">\n",
       "  <thead>\n",
       "    <tr style=\"text-align: right;\">\n",
       "      <th></th>\n",
       "      <th>text</th>\n",
       "      <th>sex</th>\n",
       "      <th>age</th>\n",
       "      <th>event</th>\n",
       "    </tr>\n",
       "  </thead>\n",
       "  <tbody>\n",
       "    <tr>\n",
       "      <th>0</th>\n",
       "      <td>57 yom with contusion to face after striking i...</td>\n",
       "      <td>1</td>\n",
       "      <td>57</td>\n",
       "      <td>62</td>\n",
       "    </tr>\n",
       "    <tr>\n",
       "      <th>1</th>\n",
       "      <td>a 45 yom fell on arm while working had slipped...</td>\n",
       "      <td>1</td>\n",
       "      <td>45</td>\n",
       "      <td>42</td>\n",
       "    </tr>\n",
       "    <tr>\n",
       "      <th>2</th>\n",
       "      <td>58 yom with cervical strain back pain s p rest...</td>\n",
       "      <td>1</td>\n",
       "      <td>58</td>\n",
       "      <td>26</td>\n",
       "    </tr>\n",
       "    <tr>\n",
       "      <th>3</th>\n",
       "      <td>33 yom lac to hand from a razor knife</td>\n",
       "      <td>1</td>\n",
       "      <td>33</td>\n",
       "      <td>60</td>\n",
       "    </tr>\n",
       "    <tr>\n",
       "      <th>4</th>\n",
       "      <td>53 yom at work in a warehouse doing unspecifie...</td>\n",
       "      <td>1</td>\n",
       "      <td>53</td>\n",
       "      <td>71</td>\n",
       "    </tr>\n",
       "  </tbody>\n",
       "</table>\n",
       "</div>"
      ],
      "text/plain": [
       "                                                text  sex  age  event\n",
       "0  57 yom with contusion to face after striking i...    1   57     62\n",
       "1  a 45 yom fell on arm while working had slipped...    1   45     42\n",
       "2  58 yom with cervical strain back pain s p rest...    1   58     26\n",
       "3              33 yom lac to hand from a razor knife    1   33     60\n",
       "4  53 yom at work in a warehouse doing unspecifie...    1   53     71"
      ]
     },
     "execution_count": 36,
     "metadata": {},
     "output_type": "execute_result"
    }
   ],
   "source": [
    "data.head()"
   ]
  },
  {
   "cell_type": "code",
   "execution_count": 37,
   "metadata": {},
   "outputs": [],
   "source": [
    "text = data['text']"
   ]
  },
  {
   "cell_type": "code",
   "execution_count": 38,
   "metadata": {},
   "outputs": [],
   "source": [
    "ages = np.array(data['age'])"
   ]
  },
  {
   "cell_type": "code",
   "execution_count": 39,
   "metadata": {},
   "outputs": [
    {
     "data": {
      "text/plain": [
       "array([57, 45, 58, 33, 53, 31, 54, 60, 36, 41])"
      ]
     },
     "execution_count": 39,
     "metadata": {},
     "output_type": "execute_result"
    }
   ],
   "source": [
    "ages[:10]"
   ]
  },
  {
   "cell_type": "code",
   "execution_count": 40,
   "metadata": {},
   "outputs": [],
   "source": [
    "injury_desc = []\n",
    "for index, entry in data.iterrows():\n",
    "    text = entry['text']\n",
    "    injury_desc.append(text)"
   ]
  },
  {
   "cell_type": "code",
   "execution_count": 41,
   "metadata": {},
   "outputs": [
    {
     "data": {
      "text/plain": [
       "['57 yom with contusion to face after striking it with a post pounder while setting a fence post',\n",
       " 'a 45 yom fell on arm while working had slipped on water fx wrist',\n",
       " '58 yom with cervical strain back pain s p restrained taxi driver in low speed rear end mvc no loc no ab deployed',\n",
       " '33 yom lac to hand from a razor knife',\n",
       " '53 yom at work in a warehouse doing unspecified lifting and strained lo wer back',\n",
       " '31 yom at a clients home trimming a tree with a chain saw and the saw kicked back hit lower arm laceration to lower arm',\n",
       " '54 yo male cut finger sharpening a knife at work dx right index finger laceration b',\n",
       " '60 yom states he was working in a wood shop yesterday and felt something go into his rt ear dx fb removal rt ear canal',\n",
       " '36 yo m c o b l back pain since fri worse today pt lifts heavy trash bags at work dx lumbar strain',\n",
       " '41 shoulder pain after lifting a package at work']"
      ]
     },
     "execution_count": 41,
     "metadata": {},
     "output_type": "execute_result"
    }
   ],
   "source": [
    "injury_desc[:10]"
   ]
  },
  {
   "cell_type": "code",
   "execution_count": 42,
   "metadata": {},
   "outputs": [],
   "source": [
    "injury_dlen = np.array([len(x) for x in injury_desc])"
   ]
  },
  {
   "cell_type": "code",
   "execution_count": 43,
   "metadata": {},
   "outputs": [
    {
     "data": {
      "text/plain": [
       "114037"
      ]
     },
     "execution_count": 43,
     "metadata": {},
     "output_type": "execute_result"
    }
   ],
   "source": [
    "np.argmax(injury_dlen)"
   ]
  },
  {
   "cell_type": "code",
   "execution_count": 44,
   "metadata": {},
   "outputs": [
    {
     "data": {
      "text/plain": [
       "143"
      ]
     },
     "execution_count": 44,
     "metadata": {},
     "output_type": "execute_result"
    }
   ],
   "source": [
    "injury_dlen[27]"
   ]
  },
  {
   "cell_type": "code",
   "execution_count": 45,
   "metadata": {},
   "outputs": [
    {
     "data": {
      "text/plain": [
       "'66 yo f employee preset ns after tripping over iv tubing in dark room and falling forward into the wall c o face rt knee pain dx c h i trap spa'"
      ]
     },
     "execution_count": 45,
     "metadata": {},
     "output_type": "execute_result"
    }
   ],
   "source": [
    "injury_desc[27]"
   ]
  },
  {
   "cell_type": "code",
   "execution_count": 46,
   "metadata": {},
   "outputs": [
    {
     "data": {
      "text/plain": [
       "(array([  197.,  4234., 16718., 26862., 27193., 24348., 19637., 15632.,\n",
       "        13543.,  5592.]),\n",
       " array([ 18. ,  30.9,  43.8,  56.7,  69.6,  82.5,  95.4, 108.3, 121.2,\n",
       "        134.1, 147. ]),\n",
       " <a list of 10 Patch objects>)"
      ]
     },
     "execution_count": 46,
     "metadata": {},
     "output_type": "execute_result"
    },
    {
     "data": {
      "image/png": "[encoded data removed]",
      "text/plain": [
       "<Figure size 432x288 with 1 Axes>"
      ]
     },
     "metadata": {
      "needs_background": "light"
     },
     "output_type": "display_data"
    }
   ],
   "source": [
    "plt.hist(injury_dlen)"
   ]
  },
  {
   "cell_type": "code",
   "execution_count": 47,
   "metadata": {},
   "outputs": [],
   "source": [
    "labels = np.array(data['event'])"
   ]
  },
  {
   "cell_type": "code",
   "execution_count": 48,
   "metadata": {},
   "outputs": [],
   "source": [
    "events = sorted(set(labels))"
   ]
  },
  {
   "cell_type": "code",
   "execution_count": 49,
   "metadata": {},
   "outputs": [
    {
     "data": {
      "text/plain": [
       "(array([14429.,     0.,   381.,  4648.,  1234.,     0.,  1562., 22559.,\n",
       "           52.,  4877., 11678., 42498.,  7362., 32085.,  8318.,   900.,\n",
       "            0.,     0.,     0.,  1373.]),\n",
       " array([10.  , 14.45, 18.9 , 23.35, 27.8 , 32.25, 36.7 , 41.15, 45.6 ,\n",
       "        50.05, 54.5 , 58.95, 63.4 , 67.85, 72.3 , 76.75, 81.2 , 85.65,\n",
       "        90.1 , 94.55, 99.  ]),\n",
       " <a list of 20 Patch objects>)"
      ]
     },
     "execution_count": 49,
     "metadata": {},
     "output_type": "execute_result"
    },
    {
     "data": {
      "image/png": "[encoded data removed]",
      "text/plain": [
       "<Figure size 432x288 with 1 Axes>"
      ]
     },
     "metadata": {
      "needs_background": "light"
     },
     "output_type": "display_data"
    }
   ],
   "source": [
    "plt.hist(labels, bins=20)"
   ]
  },
  {
   "cell_type": "markdown",
   "metadata": {},
   "source": [
    "Let's build vocabulary dictionaries for the words in the incident descriptions."
   ]
  },
  {
   "cell_type": "code",
   "execution_count": 50,
   "metadata": {},
   "outputs": [],
   "source": [
    "id2word = {}\n",
    "word2id = {}\n",
    "index = 0\n",
    "for line in injury_desc:\n",
    "    tokens = line.split(\" \")\n",
    "    for t in tokens:\n",
    "        if t not in word2id:\n",
    "            word2id[t] = index\n",
    "            id2word[index] = t\n",
    "            index += 1"
   ]
  },
  {
   "cell_type": "code",
   "execution_count": 111,
   "metadata": {},
   "outputs": [
    {
     "data": {
      "text/plain": [
       "18987"
      ]
     },
     "execution_count": 111,
     "metadata": {},
     "output_type": "execute_result"
    }
   ],
   "source": [
    "len(id2word)"
   ]
  },
  {
   "cell_type": "code",
   "execution_count": 112,
   "metadata": {},
   "outputs": [],
   "source": [
    "incident_tokens = {}\n",
    "for index, text in enumerate(injury_desc):\n",
    "    incident = labels[index]\n",
    "    if incident not in incident_tokens:\n",
    "        incident_tokens[incident] = []\n",
    "    tokens = text.split(\" \")\n",
    "    for t in tokens:\n",
    "        if t not in incident_tokens[incident]:\n",
    "            incident_tokens[incident].append(t)"
   ]
  },
  {
   "cell_type": "code",
   "execution_count": 113,
   "metadata": {},
   "outputs": [
    {
     "data": {
      "text/plain": [
       "['51',\n",
       " 'year',\n",
       " 'old',\n",
       " 'male',\n",
       " 'pain',\n",
       " 'to',\n",
       " 'l',\n",
       " '5th',\n",
       " 'finger',\n",
       " 'when',\n",
       " 'responding',\n",
       " 'a',\n",
       " 'situation',\n",
       " 'at',\n",
       " 'work',\n",
       " 'and',\n",
       " 'broke',\n",
       " 'out',\n",
       " 'inri',\n",
       " 'fx',\n",
       " '30',\n",
       " 'wrestling',\n",
       " 'w',\n",
       " 'another',\n",
       " 'person',\n",
       " 'weights',\n",
       " '300',\n",
       " 'landed',\n",
       " 'on',\n",
       " 'hand',\n",
       " 'all',\n",
       " 'occured',\n",
       " 'dx',\n",
       " 'sprain',\n",
       " 'low',\n",
       " 'back']"
      ]
     },
     "execution_count": 113,
     "metadata": {},
     "output_type": "execute_result"
    }
   ],
   "source": [
    "incident_tokens[10]"
   ]
  },
  {
   "cell_type": "code",
   "execution_count": 114,
   "metadata": {},
   "outputs": [
    {
     "name": "stdout",
     "output_type": "stream",
     "text": [
      "Words for event 10: 36\n",
      "Words for event 11: 4759\n",
      "Words for event 12: 2533\n",
      "Words for event 13: 3165\n",
      "Words for event 20: 120\n",
      "Words for event 21: 265\n",
      "Words for event 22: 340\n",
      "Words for event 23: 749\n",
      "Words for event 24: 1509\n",
      "Words for event 25: 486\n",
      "Words for event 26: 2398\n",
      "Words for event 27: 1716\n",
      "Words for event 29: 14\n",
      "Words for event 30: 26\n",
      "Words for event 31: 1729\n",
      "Words for event 32: 1092\n",
      "Words for event 40: 315\n",
      "Words for event 41: 1616\n",
      "Words for event 42: 5497\n",
      "Words for event 43: 3763\n",
      "Words for event 44: 899\n",
      "Words for event 45: 185\n",
      "Words for event 49: 260\n",
      "Words for event 50: 239\n",
      "Words for event 51: 1351\n",
      "Words for event 52: 984\n",
      "Words for event 53: 3363\n",
      "Words for event 54: 128\n",
      "Words for event 55: 6791\n",
      "Words for event 56: 91\n",
      "Words for event 59: 72\n",
      "Words for event 60: 3903\n",
      "Words for event 61: 317\n",
      "Words for event 62: 7713\n",
      "Words for event 63: 4673\n",
      "Words for event 64: 3159\n",
      "Words for event 65: 345\n",
      "Words for event 66: 2302\n",
      "Words for event 67: 410\n",
      "Words for event 69: 583\n",
      "Words for event 70: 3543\n",
      "Words for event 71: 6868\n",
      "Words for event 72: 1404\n",
      "Words for event 73: 4499\n",
      "Words for event 74: 54\n",
      "Words for event 78: 1503\n",
      "Words for event 79: 140\n",
      "Words for event 99: 1742\n"
     ]
    }
   ],
   "source": [
    "for ev in events:\n",
    "    print(\"Words for event {}: {}\".format(ev, len(incident_tokens[ev])))"
   ]
  },
  {
   "cell_type": "code",
   "execution_count": 22,
   "metadata": {},
   "outputs": [],
   "source": [
    "word_count_by_cat = {}\n",
    "for word in id2word.values():\n",
    "    word_count_by_cat[word] = 0\n",
    "    for cat in events:\n",
    "        if word in incident_tokens[cat]:\n",
    "            word_count_by_cat[word] += 1"
   ]
  },
  {
   "cell_type": "code",
   "execution_count": 23,
   "metadata": {},
   "outputs": [],
   "source": [
    "word_dist = [count for count in word_count_by_cat.values()]"
   ]
  },
  {
   "cell_type": "code",
   "execution_count": 24,
   "metadata": {},
   "outputs": [
    {
     "data": {
      "text/plain": [
       "(array([3.0724e+04, 2.3120e+03, 9.0200e+02, 7.0200e+02, 3.5300e+02,\n",
       "        3.0600e+02, 2.0000e+02, 6.8000e+01, 4.5000e+01, 2.0000e+01]),\n",
       " array([ 1. ,  5.6, 10.2, 14.8, 19.4, 24. , 28.6, 33.2, 37.8, 42.4, 47. ]),\n",
       " <a list of 10 Patch objects>)"
      ]
     },
     "execution_count": 24,
     "metadata": {},
     "output_type": "execute_result"
    },
    {
     "data": {
      "image/png": "[encoded data removed]",
      "text/plain": [
       "<Figure size 432x288 with 1 Axes>"
      ]
     },
     "metadata": {
      "needs_background": "light"
     },
     "output_type": "display_data"
    }
   ],
   "source": [
    "plt.hist(word_dist)"
   ]
  },
  {
   "cell_type": "code",
   "execution_count": 51,
   "metadata": {},
   "outputs": [
    {
     "data": {
      "text/html": [
       "<div>\n",
       "<style scoped>\n",
       "    .dataframe tbody tr th:only-of-type {\n",
       "        vertical-align: middle;\n",
       "    }\n",
       "\n",
       "    .dataframe tbody tr th {\n",
       "        vertical-align: top;\n",
       "    }\n",
       "\n",
       "    .dataframe thead th {\n",
       "        text-align: right;\n",
       "    }\n",
       "</style>\n",
       "<table border=\"1\" class=\"dataframe\">\n",
       "  <thead>\n",
       "    <tr style=\"text-align: right;\">\n",
       "      <th></th>\n",
       "      <th>text</th>\n",
       "      <th>sex</th>\n",
       "      <th>age</th>\n",
       "      <th>event</th>\n",
       "    </tr>\n",
       "  </thead>\n",
       "  <tbody>\n",
       "    <tr>\n",
       "      <th>0</th>\n",
       "      <td>57 yom with contusion to face after striking i...</td>\n",
       "      <td>1</td>\n",
       "      <td>57</td>\n",
       "      <td>62</td>\n",
       "    </tr>\n",
       "    <tr>\n",
       "      <th>1</th>\n",
       "      <td>a 45 yom fell on arm while working had slipped...</td>\n",
       "      <td>1</td>\n",
       "      <td>45</td>\n",
       "      <td>42</td>\n",
       "    </tr>\n",
       "    <tr>\n",
       "      <th>2</th>\n",
       "      <td>58 yom with cervical strain back pain s p rest...</td>\n",
       "      <td>1</td>\n",
       "      <td>58</td>\n",
       "      <td>26</td>\n",
       "    </tr>\n",
       "    <tr>\n",
       "      <th>3</th>\n",
       "      <td>33 yom lac to hand from a razor knife</td>\n",
       "      <td>1</td>\n",
       "      <td>33</td>\n",
       "      <td>60</td>\n",
       "    </tr>\n",
       "    <tr>\n",
       "      <th>4</th>\n",
       "      <td>53 yom at work in a warehouse doing unspecifie...</td>\n",
       "      <td>1</td>\n",
       "      <td>53</td>\n",
       "      <td>71</td>\n",
       "    </tr>\n",
       "  </tbody>\n",
       "</table>\n",
       "</div>"
      ],
      "text/plain": [
       "                                                text  sex  age  event\n",
       "0  57 yom with contusion to face after striking i...    1   57     62\n",
       "1  a 45 yom fell on arm while working had slipped...    1   45     42\n",
       "2  58 yom with cervical strain back pain s p rest...    1   58     26\n",
       "3              33 yom lac to hand from a razor knife    1   33     60\n",
       "4  53 yom at work in a warehouse doing unspecifie...    1   53     71"
      ]
     },
     "execution_count": 51,
     "metadata": {},
     "output_type": "execute_result"
    }
   ],
   "source": [
    "data.head()"
   ]
  },
  {
   "cell_type": "code",
   "execution_count": 52,
   "metadata": {},
   "outputs": [],
   "source": [
    "data.to_csv(\"/home/vijjus/datasets/cdc_train_fixed.csv\")"
   ]
  }
 ],
 "metadata": {
  "kernelspec": {
   "display_name": "Python 3",
   "language": "python",
   "name": "python3"
  },
  "language_info": {
   "codemirror_mode": {
    "name": "ipython",
    "version": 3
   },
   "file_extension": ".py",
   "mimetype": "text/x-python",
   "name": "python",
   "nbconvert_exporter": "python",
   "pygments_lexer": "ipython3",
   "version": "3.7.4"
  }
 },
 "nbformat": 4,
 "nbformat_minor": 2
}
