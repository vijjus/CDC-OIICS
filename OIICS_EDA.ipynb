{
 "cells": [
  {
   "cell_type": "code",
   "execution_count": 1,
   "metadata": {},
   "outputs": [],
   "source": [
    "import pandas as pd\n",
    "import numpy as np\n",
    "import matplotlib.pyplot as plt\n",
    "import re\n",
    "\n",
    "from text import clean_text\n",
    "from tqdm import tqdm_notebook"
   ]
  },
  {
   "cell_type": "code",
   "execution_count": 2,
   "metadata": {},
   "outputs": [],
   "source": [
    "data = pd.read_csv('/home/vijjus/datasets/cdc_train.csv')"
   ]
  },
  {
   "cell_type": "code",
   "execution_count": 3,
   "metadata": {},
   "outputs": [
    {
     "data": {
      "text/html": [
       "<div>\n",
       "<style scoped>\n",
       "    .dataframe tbody tr th:only-of-type {\n",
       "        vertical-align: middle;\n",
       "    }\n",
       "\n",
       "    .dataframe tbody tr th {\n",
       "        vertical-align: top;\n",
       "    }\n",
       "\n",
       "    .dataframe thead th {\n",
       "        text-align: right;\n",
       "    }\n",
       "</style>\n",
       "<table border=\"1\" class=\"dataframe\">\n",
       "  <thead>\n",
       "    <tr style=\"text-align: right;\">\n",
       "      <th></th>\n",
       "      <th>text</th>\n",
       "      <th>sex</th>\n",
       "      <th>age</th>\n",
       "      <th>event</th>\n",
       "    </tr>\n",
       "  </thead>\n",
       "  <tbody>\n",
       "    <tr>\n",
       "      <th>0</th>\n",
       "      <td>57YOM WITH CONTUSION TO FACE AFTER STRIKING IT...</td>\n",
       "      <td>1</td>\n",
       "      <td>57</td>\n",
       "      <td>62</td>\n",
       "    </tr>\n",
       "    <tr>\n",
       "      <th>1</th>\n",
       "      <td>A 45YOM FELL ON ARM WHILE WORKING HAD SLIPPED ...</td>\n",
       "      <td>1</td>\n",
       "      <td>45</td>\n",
       "      <td>42</td>\n",
       "    </tr>\n",
       "    <tr>\n",
       "      <th>2</th>\n",
       "      <td>58YOM WITH CERVICAL STRAIN  BACK PAIN S P REST...</td>\n",
       "      <td>1</td>\n",
       "      <td>58</td>\n",
       "      <td>26</td>\n",
       "    </tr>\n",
       "    <tr>\n",
       "      <th>3</th>\n",
       "      <td>33 YOM LAC TO HAND FROM A RAZOR KNIFE</td>\n",
       "      <td>1</td>\n",
       "      <td>33</td>\n",
       "      <td>60</td>\n",
       "    </tr>\n",
       "    <tr>\n",
       "      <th>4</th>\n",
       "      <td>53YOM AT WORK IN A WAREHOUSE DOING UNSPECIFIED...</td>\n",
       "      <td>1</td>\n",
       "      <td>53</td>\n",
       "      <td>71</td>\n",
       "    </tr>\n",
       "  </tbody>\n",
       "</table>\n",
       "</div>"
      ],
      "text/plain": [
       "                                                text  sex  age  event\n",
       "0  57YOM WITH CONTUSION TO FACE AFTER STRIKING IT...    1   57     62\n",
       "1  A 45YOM FELL ON ARM WHILE WORKING HAD SLIPPED ...    1   45     42\n",
       "2  58YOM WITH CERVICAL STRAIN  BACK PAIN S P REST...    1   58     26\n",
       "3              33 YOM LAC TO HAND FROM A RAZOR KNIFE    1   33     60\n",
       "4  53YOM AT WORK IN A WAREHOUSE DOING UNSPECIFIED...    1   53     71"
      ]
     },
     "execution_count": 3,
     "metadata": {},
     "output_type": "execute_result"
    }
   ],
   "source": [
    "data.head()"
   ]
  },
  {
   "cell_type": "code",
   "execution_count": 4,
   "metadata": {},
   "outputs": [],
   "source": [
    "data.text = pd.Series(clean_text(data.text))"
   ]
  },
  {
   "cell_type": "code",
   "execution_count": 5,
   "metadata": {},
   "outputs": [
    {
     "data": {
      "text/html": [
       "<div>\n",
       "<style scoped>\n",
       "    .dataframe tbody tr th:only-of-type {\n",
       "        vertical-align: middle;\n",
       "    }\n",
       "\n",
       "    .dataframe tbody tr th {\n",
       "        vertical-align: top;\n",
       "    }\n",
       "\n",
       "    .dataframe thead th {\n",
       "        text-align: right;\n",
       "    }\n",
       "</style>\n",
       "<table border=\"1\" class=\"dataframe\">\n",
       "  <thead>\n",
       "    <tr style=\"text-align: right;\">\n",
       "      <th></th>\n",
       "      <th>text</th>\n",
       "      <th>sex</th>\n",
       "      <th>age</th>\n",
       "      <th>event</th>\n",
       "    </tr>\n",
       "  </thead>\n",
       "  <tbody>\n",
       "    <tr>\n",
       "      <th>0</th>\n",
       "      <td>57 year old male with contusion to face after ...</td>\n",
       "      <td>1</td>\n",
       "      <td>57</td>\n",
       "      <td>62</td>\n",
       "    </tr>\n",
       "    <tr>\n",
       "      <th>1</th>\n",
       "      <td>a 45 year old male fell on arm while working h...</td>\n",
       "      <td>1</td>\n",
       "      <td>45</td>\n",
       "      <td>42</td>\n",
       "    </tr>\n",
       "    <tr>\n",
       "      <th>2</th>\n",
       "      <td>58 year old male with cervical strain back pai...</td>\n",
       "      <td>1</td>\n",
       "      <td>58</td>\n",
       "      <td>26</td>\n",
       "    </tr>\n",
       "    <tr>\n",
       "      <th>3</th>\n",
       "      <td>33 year old male laceration to hand from a raz...</td>\n",
       "      <td>1</td>\n",
       "      <td>33</td>\n",
       "      <td>60</td>\n",
       "    </tr>\n",
       "    <tr>\n",
       "      <th>4</th>\n",
       "      <td>53 year old male at work in a warehouse doing ...</td>\n",
       "      <td>1</td>\n",
       "      <td>53</td>\n",
       "      <td>71</td>\n",
       "    </tr>\n",
       "  </tbody>\n",
       "</table>\n",
       "</div>"
      ],
      "text/plain": [
       "                                                text  sex  age  event\n",
       "0  57 year old male with contusion to face after ...    1   57     62\n",
       "1  a 45 year old male fell on arm while working h...    1   45     42\n",
       "2  58 year old male with cervical strain back pai...    1   58     26\n",
       "3  33 year old male laceration to hand from a raz...    1   33     60\n",
       "4  53 year old male at work in a warehouse doing ...    1   53     71"
      ]
     },
     "execution_count": 5,
     "metadata": {},
     "output_type": "execute_result"
    }
   ],
   "source": [
    "data.head()"
   ]
  },
  {
   "cell_type": "code",
   "execution_count": 6,
   "metadata": {},
   "outputs": [],
   "source": [
    "data.to_csv(\"/home/vijjus/datasets/cdc_train_fixed.csv\")"
   ]
  },
  {
   "cell_type": "code",
   "execution_count": 5,
   "metadata": {},
   "outputs": [],
   "source": [
    "glove_path=\"/home/vijjus/glove/glove.6B.50d.txt\"\n",
    "embedding_size=50"
   ]
  },
  {
   "cell_type": "code",
   "execution_count": 6,
   "metadata": {},
   "outputs": [
    {
     "name": "stderr",
     "output_type": "stream",
     "text": [
      "  2%|▏         | 9047/400000 [00:00<00:08, 43487.53it/s]"
     ]
    },
    {
     "name": "stdout",
     "output_type": "stream",
     "text": [
      "Loading GLoVE vectors from file: /home/vijjus/glove/glove.6B.50d.txt\n"
     ]
    },
    {
     "name": "stderr",
     "output_type": "stream",
     "text": [
      "100%|██████████| 400000/400000 [00:07<00:00, 51833.01it/s]\n"
     ]
    }
   ],
   "source": [
    "# Load embedding matrix and vocab mappings\n",
    "from vocab import get_glove\n",
    "emb_matrix, word2id, id2word = get_glove(glove_path, embedding_size)"
   ]
  },
  {
   "cell_type": "markdown",
   "metadata": {},
   "source": [
    "Text sanitization:\n",
    "\n",
    "* Convert yom/yof/ym/yo/yf to \"year old..\"\n",
    "* Split words that are joined"
   ]
  },
  {
   "cell_type": "code",
   "execution_count": 7,
   "metadata": {},
   "outputs": [],
   "source": [
    "def do_split(token, output_list):\n",
    "    if token not in word2id:\n",
    "        split = -1\n",
    "        for i in range(1,len(token)):\n",
    "            if token[:i] in word2id:\n",
    "                split = i\n",
    "        if split is not -1:\n",
    "            sub1 = token[:split]\n",
    "            sub2 = token[split:]\n",
    "            if sub1 in word2id:\n",
    "                output_list.append(sub1)\n",
    "            if sub2 in word2id:\n",
    "                output_list.append(sub2)\n",
    "    else:\n",
    "        output_list.append(token)\n",
    "    return output_list"
   ]
  },
  {
   "cell_type": "code",
   "execution_count": 8,
   "metadata": {},
   "outputs": [],
   "source": [
    "# receive a list of tokens and return a transformed list that has tokens\n",
    "# present in the embedding dictionary\n",
    "def process_text(input_list):\n",
    "    output_list = []\n",
    "    for tok in input_list:\n",
    "        output_list = do_split(tok, output_list)\n",
    "    return output_list"
   ]
  },
  {
   "cell_type": "code",
   "execution_count": 9,
   "metadata": {},
   "outputs": [],
   "source": [
    "# check for words that are not in the volabulary\n",
    "def sanitize_data(data):\n",
    "    total_len = len(data)\n",
    "    for i in tqdm_notebook(range(total_len)):\n",
    "        text = data.iloc[i]['text'].lower()\n",
    "        tokens = text.split(\" \")\n",
    "        tokens = process_text(tokens)\n",
    "        data.at[i, 'text'] = ' '.join(tokens)"
   ]
  },
  {
   "cell_type": "code",
   "execution_count": 10,
   "metadata": {},
   "outputs": [
    {
     "data": {
      "application/vnd.jupyter.widget-view+json": {
       "model_id": "b364ffcde6bb46a795f3629e1a48f969",
       "version_major": 2,
       "version_minor": 0
      },
      "text/plain": [
       "HBox(children=(IntProgress(value=0, max=153956), HTML(value='')))"
      ]
     },
     "metadata": {},
     "output_type": "display_data"
    },
    {
     "name": "stdout",
     "output_type": "stream",
     "text": [
      "\n"
     ]
    }
   ],
   "source": [
    "sanitize_data(data)"
   ]
  },
  {
   "cell_type": "code",
   "execution_count": 13,
   "metadata": {},
   "outputs": [],
   "source": [
    "# check for words that are not in the volabulary\n",
    "def check_unks(data):\n",
    "    unknowns = 0\n",
    "    unknown_words = []\n",
    "    total_len = len(data)\n",
    "    for i in tqdm_notebook(range(total_len)):\n",
    "        text = data.iloc[i]['text'].lower()\n",
    "        tokens = text.split(\" \")\n",
    "        for j, token in enumerate(tokens):\n",
    "            if token not in word2id and token not in unknown_words:\n",
    "                unknown_words.append(token)\n",
    "                unknowns += 1\n",
    "    print(\"{} tokens not in embedding dictionary\".format(unknowns))\n",
    "    return unknown_words"
   ]
  },
  {
   "cell_type": "code",
   "execution_count": 14,
   "metadata": {},
   "outputs": [
    {
     "data": {
      "application/vnd.jupyter.widget-view+json": {
       "model_id": "1105883339884156ad30ddb8249fe2bb",
       "version_major": 2,
       "version_minor": 0
      },
      "text/plain": [
       "HBox(children=(IntProgress(value=0, max=153956), HTML(value='')))"
      ]
     },
     "metadata": {},
     "output_type": "display_data"
    },
    {
     "name": "stdout",
     "output_type": "stream",
     "text": [
      "\n",
      "28 tokens not in embedding dictionary\n"
     ]
    }
   ],
   "source": [
    "unks = check_unks(data)"
   ]
  },
  {
   "cell_type": "code",
   "execution_count": 15,
   "metadata": {},
   "outputs": [
    {
     "data": {
      "text/plain": [
       "['eration',\n",
       " 'emale',\n",
       " 'ptoms',\n",
       " 'ascial',\n",
       " 'epidid',\n",
       " 'emplo',\n",
       " 'riend',\n",
       " 'deplo',\n",
       " 'erated',\n",
       " 'acial',\n",
       " 'nastics',\n",
       " 'nasium',\n",
       " 'ptomatic',\n",
       " 'metry',\n",
       " 'phadenopathy',\n",
       " 'journe',\n",
       " 'erating',\n",
       " 'panum',\n",
       " 'nastic',\n",
       " 'parench',\n",
       " 'enoptera',\n",
       " 'ptons',\n",
       " 'ully',\n",
       " 'ectomy',\n",
       " 'ront',\n",
       " 'workp',\n",
       " 'firep',\n",
       " 'disp']"
      ]
     },
     "execution_count": 15,
     "metadata": {},
     "output_type": "execute_result"
    }
   ],
   "source": [
    "unks"
   ]
  },
  {
   "cell_type": "code",
   "execution_count": 16,
   "metadata": {},
   "outputs": [
    {
     "data": {
      "text/html": [
       "<div>\n",
       "<style scoped>\n",
       "    .dataframe tbody tr th:only-of-type {\n",
       "        vertical-align: middle;\n",
       "    }\n",
       "\n",
       "    .dataframe tbody tr th {\n",
       "        vertical-align: top;\n",
       "    }\n",
       "\n",
       "    .dataframe thead th {\n",
       "        text-align: right;\n",
       "    }\n",
       "</style>\n",
       "<table border=\"1\" class=\"dataframe\">\n",
       "  <thead>\n",
       "    <tr style=\"text-align: right;\">\n",
       "      <th></th>\n",
       "      <th>text</th>\n",
       "      <th>sex</th>\n",
       "      <th>age</th>\n",
       "      <th>event</th>\n",
       "    </tr>\n",
       "  </thead>\n",
       "  <tbody>\n",
       "    <tr>\n",
       "      <th>0</th>\n",
       "      <td>57 year old male with contusion to face after ...</td>\n",
       "      <td>1</td>\n",
       "      <td>57</td>\n",
       "      <td>62</td>\n",
       "    </tr>\n",
       "    <tr>\n",
       "      <th>1</th>\n",
       "      <td>a 45 year old male fell on arm while working h...</td>\n",
       "      <td>1</td>\n",
       "      <td>45</td>\n",
       "      <td>42</td>\n",
       "    </tr>\n",
       "    <tr>\n",
       "      <th>2</th>\n",
       "      <td>58 year old male with cervical strain back pai...</td>\n",
       "      <td>1</td>\n",
       "      <td>58</td>\n",
       "      <td>26</td>\n",
       "    </tr>\n",
       "    <tr>\n",
       "      <th>3</th>\n",
       "      <td>33 year old male laceration to hand from a raz...</td>\n",
       "      <td>1</td>\n",
       "      <td>33</td>\n",
       "      <td>60</td>\n",
       "    </tr>\n",
       "    <tr>\n",
       "      <th>4</th>\n",
       "      <td>53 year old male at work in a warehouse doing ...</td>\n",
       "      <td>1</td>\n",
       "      <td>53</td>\n",
       "      <td>71</td>\n",
       "    </tr>\n",
       "  </tbody>\n",
       "</table>\n",
       "</div>"
      ],
      "text/plain": [
       "                                                text  sex  age  event\n",
       "0  57 year old male with contusion to face after ...    1   57     62\n",
       "1  a 45 year old male fell on arm while working h...    1   45     42\n",
       "2  58 year old male with cervical strain back pai...    1   58     26\n",
       "3  33 year old male laceration to hand from a raz...    1   33     60\n",
       "4  53 year old male at work in a warehouse doing ...    1   53     71"
      ]
     },
     "execution_count": 16,
     "metadata": {},
     "output_type": "execute_result"
    }
   ],
   "source": [
    "data.head()"
   ]
  },
  {
   "cell_type": "code",
   "execution_count": 17,
   "metadata": {},
   "outputs": [],
   "source": [
    "text = data['text']"
   ]
  },
  {
   "cell_type": "code",
   "execution_count": 18,
   "metadata": {},
   "outputs": [],
   "source": [
    "ages = np.array(data['age'])"
   ]
  },
  {
   "cell_type": "code",
   "execution_count": 19,
   "metadata": {},
   "outputs": [
    {
     "data": {
      "text/plain": [
       "array([57, 45, 58, 33, 53, 31, 54, 60, 36, 41])"
      ]
     },
     "execution_count": 19,
     "metadata": {},
     "output_type": "execute_result"
    }
   ],
   "source": [
    "ages[:10]"
   ]
  },
  {
   "cell_type": "code",
   "execution_count": 20,
   "metadata": {},
   "outputs": [],
   "source": [
    "injury_desc = []\n",
    "for index, entry in data.iterrows():\n",
    "    text = entry['text']\n",
    "    injury_desc.append(text)"
   ]
  },
  {
   "cell_type": "code",
   "execution_count": 21,
   "metadata": {},
   "outputs": [
    {
     "data": {
      "text/plain": [
       "['57 year old male with contusion to face after striking it with a post pounder while setting a fence post',\n",
       " 'a 45 year old male fell on arm while working had slipped on water fracture wrist',\n",
       " '58 year old male with cervical strain back pain status post restrained taxi driver in low speed rear end mvc no loss of consciousness no ab deployed',\n",
       " '33 year old male laceration to hand from a razor knife',\n",
       " '53 year old male at work in a warehouse doing unspecified lifting and strained lo wer back',\n",
       " '31 year old male at a clients home trimming a tree with a chain saw and the saw kicked back hit lower arm laceration to lower arm',\n",
       " '54 year old male ale cut finger sharpening a knife at work diagnosis right index finger laceration b',\n",
       " '60 year old male states he was working in a wood shop yesterday and felt something go into his right ear diagnosis foreign body removal right ear canal',\n",
       " '36 year old male complains of b left back pain since fri worse today patient lifts heavy trash bags at work diagnosis lumbar strain',\n",
       " '41 shoulder pain after lifting a package at work']"
      ]
     },
     "execution_count": 21,
     "metadata": {},
     "output_type": "execute_result"
    }
   ],
   "source": [
    "injury_desc[:10]"
   ]
  },
  {
   "cell_type": "code",
   "execution_count": 22,
   "metadata": {},
   "outputs": [],
   "source": [
    "injury_dlen = np.array([len(x) for x in injury_desc])"
   ]
  },
  {
   "cell_type": "code",
   "execution_count": 40,
   "metadata": {},
   "outputs": [
    {
     "data": {
      "text/plain": [
       "101.0"
      ]
     },
     "execution_count": 40,
     "metadata": {},
     "output_type": "execute_result"
    }
   ],
   "source": [
    "np.median(injury_dlen)"
   ]
  },
  {
   "cell_type": "code",
   "execution_count": 41,
   "metadata": {},
   "outputs": [
    {
     "data": {
      "text/plain": [
       "104.1117656992907"
      ]
     },
     "execution_count": 41,
     "metadata": {},
     "output_type": "execute_result"
    }
   ],
   "source": [
    "np.mean(injury_dlen)"
   ]
  },
  {
   "cell_type": "code",
   "execution_count": 23,
   "metadata": {},
   "outputs": [
    {
     "data": {
      "text/plain": [
       "126199"
      ]
     },
     "execution_count": 23,
     "metadata": {},
     "output_type": "execute_result"
    }
   ],
   "source": [
    "np.argmax(injury_dlen)"
   ]
  },
  {
   "cell_type": "code",
   "execution_count": 24,
   "metadata": {},
   "outputs": [
    {
     "data": {
      "text/plain": [
       "173"
      ]
     },
     "execution_count": 24,
     "metadata": {},
     "output_type": "execute_result"
    }
   ],
   "source": [
    "injury_dlen[27]"
   ]
  },
  {
   "cell_type": "code",
   "execution_count": 25,
   "metadata": {},
   "outputs": [
    {
     "data": {
      "text/plain": [
       "'66 year old female employee preset ns after tripping over iv tubing in dark room and falling forward into the wall complains of face right knee pain diagnosis c h i trap spa'"
      ]
     },
     "execution_count": 25,
     "metadata": {},
     "output_type": "execute_result"
    }
   ],
   "source": [
    "injury_desc[27]"
   ]
  },
  {
   "cell_type": "code",
   "execution_count": 26,
   "metadata": {},
   "outputs": [
    {
     "data": {
      "text/plain": [
       "(array([5.9900e+02, 1.1374e+04, 3.4040e+04, 3.9838e+04, 3.1659e+04,\n",
       "        2.3568e+04, 1.1376e+04, 1.4070e+03, 8.9000e+01, 6.0000e+00]),\n",
       " array([ 19. ,  40.9,  62.8,  84.7, 106.6, 128.5, 150.4, 172.3, 194.2,\n",
       "        216.1, 238. ]),\n",
       " <a list of 10 Patch objects>)"
      ]
     },
     "execution_count": 26,
     "metadata": {},
     "output_type": "execute_result"
    },
    {
     "data": {
      "image/png": "[encoded data removed]",
      "text/plain": [
       "<Figure size 432x288 with 1 Axes>"
      ]
     },
     "metadata": {
      "needs_background": "light"
     },
     "output_type": "display_data"
    }
   ],
   "source": [
    "plt.hist(injury_dlen)"
   ]
  },
  {
   "cell_type": "code",
   "execution_count": 27,
   "metadata": {},
   "outputs": [],
   "source": [
    "labels = np.array(data['event'])"
   ]
  },
  {
   "cell_type": "code",
   "execution_count": 28,
   "metadata": {},
   "outputs": [],
   "source": [
    "events = sorted(set(labels))"
   ]
  },
  {
   "cell_type": "code",
   "execution_count": 29,
   "metadata": {},
   "outputs": [
    {
     "data": {
      "text/plain": [
       "(array([14429.,     0.,   381.,  4648.,  1234.,     0.,  1562., 22559.,\n",
       "           52.,  4877., 11678., 42498.,  7362., 32085.,  8318.,   900.,\n",
       "            0.,     0.,     0.,  1373.]),\n",
       " array([10.  , 14.45, 18.9 , 23.35, 27.8 , 32.25, 36.7 , 41.15, 45.6 ,\n",
       "        50.05, 54.5 , 58.95, 63.4 , 67.85, 72.3 , 76.75, 81.2 , 85.65,\n",
       "        90.1 , 94.55, 99.  ]),\n",
       " <a list of 20 Patch objects>)"
      ]
     },
     "execution_count": 29,
     "metadata": {},
     "output_type": "execute_result"
    },
    {
     "data": {
      "image/png": "[encoded data removed]",
      "text/plain": [
       "<Figure size 432x288 with 1 Axes>"
      ]
     },
     "metadata": {
      "needs_background": "light"
     },
     "output_type": "display_data"
    }
   ],
   "source": [
    "plt.hist(labels, bins=20)"
   ]
  },
  {
   "cell_type": "markdown",
   "metadata": {},
   "source": [
    "Let's build vocabulary dictionaries for the words in the incident descriptions."
   ]
  },
  {
   "cell_type": "code",
   "execution_count": 30,
   "metadata": {},
   "outputs": [],
   "source": [
    "id2word = {}\n",
    "word2id = {}\n",
    "index = 0\n",
    "for line in injury_desc:\n",
    "    tokens = line.split(\" \")\n",
    "    for t in tokens:\n",
    "        if t not in word2id:\n",
    "            word2id[t] = index\n",
    "            id2word[index] = t\n",
    "            index += 1"
   ]
  },
  {
   "cell_type": "code",
   "execution_count": 31,
   "metadata": {},
   "outputs": [
    {
     "data": {
      "text/plain": [
       "19742"
      ]
     },
     "execution_count": 31,
     "metadata": {},
     "output_type": "execute_result"
    }
   ],
   "source": [
    "len(id2word)"
   ]
  },
  {
   "cell_type": "code",
   "execution_count": 32,
   "metadata": {},
   "outputs": [],
   "source": [
    "incident_tokens = {}\n",
    "for index, text in enumerate(injury_desc):\n",
    "    incident = labels[index]\n",
    "    if incident not in incident_tokens:\n",
    "        incident_tokens[incident] = []\n",
    "    tokens = text.split(\" \")\n",
    "    for t in tokens:\n",
    "        if t not in incident_tokens[incident]:\n",
    "            incident_tokens[incident].append(t)"
   ]
  },
  {
   "cell_type": "code",
   "execution_count": 33,
   "metadata": {},
   "outputs": [
    {
     "data": {
      "text/plain": [
       "['51',\n",
       " 'year',\n",
       " 'old',\n",
       " 'male',\n",
       " 'pain',\n",
       " 'to',\n",
       " 'left',\n",
       " '5th',\n",
       " 'finger',\n",
       " 'when',\n",
       " 'responding',\n",
       " 'a',\n",
       " 'situation',\n",
       " 'at',\n",
       " 'work',\n",
       " 'and',\n",
       " 'broke',\n",
       " 'out',\n",
       " 'inri',\n",
       " 'ng',\n",
       " 'fracture',\n",
       " '30',\n",
       " 'wrestling',\n",
       " 'with',\n",
       " 'another',\n",
       " 'person',\n",
       " 'weights',\n",
       " '300',\n",
       " 'lb',\n",
       " 'landed',\n",
       " 'on',\n",
       " 'hand',\n",
       " 'all',\n",
       " 'occured',\n",
       " 'diagnosis',\n",
       " 'sprain',\n",
       " 'low',\n",
       " 'back']"
      ]
     },
     "execution_count": 33,
     "metadata": {},
     "output_type": "execute_result"
    }
   ],
   "source": [
    "incident_tokens[10]"
   ]
  },
  {
   "cell_type": "code",
   "execution_count": 34,
   "metadata": {},
   "outputs": [
    {
     "name": "stdout",
     "output_type": "stream",
     "text": [
      "Words for event 10: 38\n",
      "Words for event 11: 4992\n",
      "Words for event 12: 2630\n",
      "Words for event 13: 3282\n",
      "Words for event 20: 118\n",
      "Words for event 21: 261\n",
      "Words for event 22: 345\n",
      "Words for event 23: 770\n",
      "Words for event 24: 1564\n",
      "Words for event 25: 494\n",
      "Words for event 26: 2516\n",
      "Words for event 27: 1777\n",
      "Words for event 29: 14\n",
      "Words for event 30: 26\n",
      "Words for event 31: 1801\n",
      "Words for event 32: 1123\n",
      "Words for event 40: 314\n",
      "Words for event 41: 1672\n",
      "Words for event 42: 5709\n",
      "Words for event 43: 3934\n",
      "Words for event 44: 917\n",
      "Words for event 45: 184\n",
      "Words for event 49: 255\n",
      "Words for event 50: 238\n",
      "Words for event 51: 1386\n",
      "Words for event 52: 1008\n",
      "Words for event 53: 3509\n",
      "Words for event 54: 127\n",
      "Words for event 55: 7133\n",
      "Words for event 56: 93\n",
      "Words for event 59: 71\n",
      "Words for event 60: 4039\n",
      "Words for event 61: 321\n",
      "Words for event 62: 8056\n",
      "Words for event 63: 4880\n",
      "Words for event 64: 3311\n",
      "Words for event 65: 350\n",
      "Words for event 66: 2384\n",
      "Words for event 67: 410\n",
      "Words for event 69: 585\n",
      "Words for event 70: 3691\n",
      "Words for event 71: 7171\n",
      "Words for event 72: 1450\n",
      "Words for event 73: 4680\n",
      "Words for event 74: 54\n",
      "Words for event 78: 1559\n",
      "Words for event 79: 137\n",
      "Words for event 99: 1791\n"
     ]
    }
   ],
   "source": [
    "for ev in events:\n",
    "    print(\"Words for event {}: {}\".format(ev, len(incident_tokens[ev])))"
   ]
  },
  {
   "cell_type": "code",
   "execution_count": 35,
   "metadata": {},
   "outputs": [],
   "source": [
    "word_count_by_cat = {}\n",
    "for word in id2word.values():\n",
    "    word_count_by_cat[word] = 0\n",
    "    for cat in events:\n",
    "        if word in incident_tokens[cat]:\n",
    "            word_count_by_cat[word] += 1"
   ]
  },
  {
   "cell_type": "code",
   "execution_count": 36,
   "metadata": {},
   "outputs": [],
   "source": [
    "word_dist = [count for count in word_count_by_cat.values()]"
   ]
  },
  {
   "cell_type": "code",
   "execution_count": 37,
   "metadata": {},
   "outputs": [
    {
     "data": {
      "text/plain": [
       "(array([14884.,  2388.,   913.,   683.,   317.,   256.,   150.,    78.,\n",
       "           52.,    21.]),\n",
       " array([ 1. ,  5.6, 10.2, 14.8, 19.4, 24. , 28.6, 33.2, 37.8, 42.4, 47. ]),\n",
       " <a list of 10 Patch objects>)"
      ]
     },
     "execution_count": 37,
     "metadata": {},
     "output_type": "execute_result"
    },
    {
     "data": {
      "image/png": "[encoded data removed]",
      "text/plain": [
       "<Figure size 432x288 with 1 Axes>"
      ]
     },
     "metadata": {
      "needs_background": "light"
     },
     "output_type": "display_data"
    }
   ],
   "source": [
    "plt.hist(word_dist)"
   ]
  },
  {
   "cell_type": "code",
   "execution_count": 38,
   "metadata": {},
   "outputs": [
    {
     "data": {
      "text/html": [
       "<div>\n",
       "<style scoped>\n",
       "    .dataframe tbody tr th:only-of-type {\n",
       "        vertical-align: middle;\n",
       "    }\n",
       "\n",
       "    .dataframe tbody tr th {\n",
       "        vertical-align: top;\n",
       "    }\n",
       "\n",
       "    .dataframe thead th {\n",
       "        text-align: right;\n",
       "    }\n",
       "</style>\n",
       "<table border=\"1\" class=\"dataframe\">\n",
       "  <thead>\n",
       "    <tr style=\"text-align: right;\">\n",
       "      <th></th>\n",
       "      <th>text</th>\n",
       "      <th>sex</th>\n",
       "      <th>age</th>\n",
       "      <th>event</th>\n",
       "    </tr>\n",
       "  </thead>\n",
       "  <tbody>\n",
       "    <tr>\n",
       "      <th>0</th>\n",
       "      <td>57 year old male with contusion to face after ...</td>\n",
       "      <td>1</td>\n",
       "      <td>57</td>\n",
       "      <td>62</td>\n",
       "    </tr>\n",
       "    <tr>\n",
       "      <th>1</th>\n",
       "      <td>a 45 year old male fell on arm while working h...</td>\n",
       "      <td>1</td>\n",
       "      <td>45</td>\n",
       "      <td>42</td>\n",
       "    </tr>\n",
       "    <tr>\n",
       "      <th>2</th>\n",
       "      <td>58 year old male with cervical strain back pai...</td>\n",
       "      <td>1</td>\n",
       "      <td>58</td>\n",
       "      <td>26</td>\n",
       "    </tr>\n",
       "    <tr>\n",
       "      <th>3</th>\n",
       "      <td>33 year old male laceration to hand from a raz...</td>\n",
       "      <td>1</td>\n",
       "      <td>33</td>\n",
       "      <td>60</td>\n",
       "    </tr>\n",
       "    <tr>\n",
       "      <th>4</th>\n",
       "      <td>53 year old male at work in a warehouse doing ...</td>\n",
       "      <td>1</td>\n",
       "      <td>53</td>\n",
       "      <td>71</td>\n",
       "    </tr>\n",
       "  </tbody>\n",
       "</table>\n",
       "</div>"
      ],
      "text/plain": [
       "                                                text  sex  age  event\n",
       "0  57 year old male with contusion to face after ...    1   57     62\n",
       "1  a 45 year old male fell on arm while working h...    1   45     42\n",
       "2  58 year old male with cervical strain back pai...    1   58     26\n",
       "3  33 year old male laceration to hand from a raz...    1   33     60\n",
       "4  53 year old male at work in a warehouse doing ...    1   53     71"
      ]
     },
     "execution_count": 38,
     "metadata": {},
     "output_type": "execute_result"
    }
   ],
   "source": [
    "data.head()"
   ]
  }
 ],
 "metadata": {
  "kernelspec": {
   "display_name": "Python 3",
   "language": "python",
   "name": "python3"
  },
  "language_info": {
   "codemirror_mode": {
    "name": "ipython",
    "version": 3
   },
   "file_extension": ".py",
   "mimetype": "text/x-python",
   "name": "python",
   "nbconvert_exporter": "python",
   "pygments_lexer": "ipython3",
   "version": "3.7.4"
  }
 },
 "nbformat": 4,
 "nbformat_minor": 2
}
